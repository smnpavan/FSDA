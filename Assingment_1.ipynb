{
 "cells": [
  {
   "cell_type": "raw",
   "metadata": {},
   "source": [
    "1. In the below elements which of them are values or an expression? eg:- values can be\n",
    "   integer or string and expressions will be mathematical operators.\n",
    " *      ---> expression\n",
    " 'hello'---> value\n",
    " -87.8  ---> Value\n",
    " -      ---> expression\n",
    " /      --->expression\n",
    " +      ---> expression"
   ]
  },
  {
   "cell_type": "raw",
   "metadata": {},
   "source": [
    "2. What is the difference between string and variable?\n",
    "    string is type of data which contains series of characters ex:\"this is my first assingment\"\n",
    "    variable is the storage bolck which can store any type of data, it represents the name for the storage ex: x=10 \n",
    "    y=20 here x xnd y are variables"
   ]
  },
  {
   "cell_type": "raw",
   "metadata": {},
   "source": [
    "3. Describe three different data types.\n",
    "    Int- used to store integer value ex: y=10\n",
    "    Float- used to store decimal values ex y= 10.9\n",
    "    char- used to store single character: c='A'\n",
    "    "
   ]
  },
  {
   "cell_type": "markdown",
   "metadata": {},
   "source": [
    "4.What is an expression made up of? What do all expressions do?\n",
    "    An expression is made up using operand and operators. The operand are the values or the variables and operators     are the mathematical expression. Expression are used to solve according to the values given if the sintax is       followed properly.\n",
    "    "
   ]
  },
  {
   "cell_type": "raw",
   "metadata": {},
   "source": [
    "5. This assignment statements, like spam = 10. What is the difference between an\n",
    "expression and a statement?"
   ]
  },
  {
   "cell_type": "raw",
   "metadata": {},
   "source": [
    "6. After running the following code, what does the variable bacon contain?\n",
    "bacon = 22\n",
    "bacon + 1\n",
    "\n",
    "22"
   ]
  },
  {
   "cell_type": "raw",
   "metadata": {},
   "source": [
    "7. What should the values of the following two terms be?\n",
    "    'spam' + 'spamspam'   -----> 'spamspamspam'\n",
    "    'spam' * 3           -------> 'spamspamspam'"
   ]
  },
  {
   "cell_type": "raw",
   "metadata": {},
   "source": [
    "8. Why is eggs a valid variable name while 100 is invalid?\n",
    "    according tot the rules of writing variable name the variable name should not start with numbers."
   ]
  },
  {
   "cell_type": "raw",
   "metadata": {},
   "source": [
    "9. What three functions can be used to get the integer, floating-point number, or string\n",
    "   version of a value?\n",
    "   \n",
    "int() , float(), str()"
   ]
  },
  {
   "cell_type": "raw",
   "metadata": {},
   "source": [
    "10. Why does this expression cause an error? How can you fix it?\n",
    "'I have eaten' + 99 + 'burritos.'\n",
    " concatination occurs only if the parameters are of same type\n",
    " but in this example parameters are of 2 types string and int\n",
    " so to fix it we should convert int to string by using str()\n",
    " \n",
    " 'I have eaten' + str(99) + 'burritos'"
   ]
  }
 ],
 "metadata": {
  "kernelspec": {
   "display_name": "Python 3",
   "language": "python",
   "name": "python3"
  },
  "language_info": {
   "codemirror_mode": {
    "name": "ipython",
    "version": 3
   },
   "file_extension": ".py",
   "mimetype": "text/x-python",
   "name": "python",
   "nbconvert_exporter": "python",
   "pygments_lexer": "ipython3",
   "version": "3.8.5"
  }
 },
 "nbformat": 4,
 "nbformat_minor": 4
}
